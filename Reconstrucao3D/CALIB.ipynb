{
 "cells": [
  {
   "cell_type": "markdown",
   "metadata": {},
   "source": [
    "**CAMERA CALIBRATION**"
   ]
  },
  {
   "cell_type": "markdown",
   "metadata": {},
   "source": [
    "**Take images**"
   ]
  },
  {
   "cell_type": "code",
   "execution_count": null,
   "metadata": {},
   "outputs": [],
   "source": [
    "import numpy as np\n",
    "import cv2\n",
    "import glob\n",
    "\n",
    "id_image=0\n",
    "\n",
    "print('Press (s) to save images and (q) to quit!')\n",
    "\n",
    "# Open cameras\n",
    "CamR= cv2.VideoCapture(1)\n",
    "CamL= cv2.VideoCapture(0)\n",
    "\n",
    "if CamR.isOpened() and CamL.isOpened():\n",
    "    print ('CAMERA ON')\n",
    "else:\n",
    "    print('CAMERA OFF')\n",
    "\n",
    "images_left = images_right = []\n",
    "images_left = glob.glob('calib_images/left*.jpg')\n",
    "images_right = glob.glob('calib_images/right*.jpg')\n",
    "\n",
    "while True:\n",
    "    retR, frameR= CamR.read()\n",
    "    retL, frameL= CamL.read()\n",
    "\n",
    "    # If found, add object points, image points (after refining them)\n",
    "    if (retR == True) & (retL == True):\n",
    "        cv2.imshow('VideoR',frameR)\n",
    "        cv2.imshow('VideoL',frameL)\n",
    "\n",
    "        if cv2.waitKey(10) & 0xFF == ord('s'):\n",
    "            if images_left==[] and images_right==[]:\n",
    "                str_id_image= str(id_image)\n",
    "                print('Images saved for right and left cameras')\n",
    "                cv2.imwrite('calib_images/right'+str_id_image+'.jpg',frameR)\n",
    "                cv2.imwrite('calib_images/left'+str_id_image+'.jpg',frameL)\n",
    "                id_image=id_image+1\n",
    "            else:\n",
    "                print('Images not saved, files already exist')\n",
    "            \n",
    "    # End the Programme\n",
    "    if cv2.waitKey(10) & 0xFF == ord('q'):\n",
    "        break\n",
    "\n",
    "# When everything done, release the capture\n",
    "CamR.release()\n",
    "CamL.release()\n",
    "cv2.destroyAllWindows()"
   ]
  },
  {
   "cell_type": "markdown",
   "metadata": {},
   "source": [
    "**Setup**"
   ]
  },
  {
   "cell_type": "code",
   "execution_count": null,
   "metadata": {},
   "outputs": [],
   "source": [
    "import numpy as np\n",
    "import cv2\n",
    "import glob\n",
    "\n",
    "pt_col = 6\n",
    "pt_lin = 5\n",
    "n_matchs = 0\n",
    "\n",
    "# termination criteria\n",
    "criteria = (cv2.TERM_CRITERIA_EPS + cv2.TERM_CRITERIA_MAX_ITER, 30, 0.001)\n",
    "\n",
    "# prepare object points, like (0,0,0), (1,0,0), (2,0,0) ....,(6,5,0)\n",
    "objp = np.zeros((pt_lin*pt_col,3), np.float32)\n",
    "objp[:,:2] = np.mgrid[0:pt_lin,0:pt_col].T.reshape(-1,2)\n",
    "\n",
    "# Arrays to store object points and image points from all the images.\n",
    "objpointsL = [] # 3d point in real world space\n",
    "imgpointsL = [] # 2d points in image plane.\n",
    "objpointsR = [] # 3d point in real world space\n",
    "imgpointsR = [] # 2d points in image plane.\n",
    "\n",
    "images_left = images_right = []\n",
    "images_left = glob.glob('calib_images/left*.jpg')\n",
    "images_right = glob.glob('calib_images/right*.jpg')\n",
    "\n",
    "for i in range(0, len(images_left), 1):\n",
    "    imgL = cv2.imread(images_left[i])\n",
    "    imgR = cv2.imread(images_right[i])\n",
    "    print(images_left[i], ' ', images_right[i])\n",
    "    \n",
    "    grayR= cv2.cvtColor(imgR,cv2.COLOR_BGR2GRAY)\n",
    "    grayL= cv2.cvtColor(imgL,cv2.COLOR_BGR2GRAY)\n",
    "\n",
    "    # Find the chess board corners\n",
    "    retL, cornersL = cv2.findChessboardCorners(grayL, (pt_lin,pt_col),None)\n",
    "    retR, cornersR = cv2.findChessboardCorners(grayR, (pt_lin,pt_col),None)\n",
    "    \n",
    "    # If found, add object points, image points (after refining them)\n",
    "    if retL == True & retR == True:\n",
    "        objpointsL.append(objp)\n",
    "        objpointsR.append(objp)\n",
    "\n",
    "        cornersL2 = cv2.cornerSubPix(grayL,cornersL,(11,11),(-1,-1),criteria)\n",
    "        imgpointsL.append(cornersL2)\n",
    "        cornersR2 = cv2.cornerSubPix(grayR,cornersR,(11,11),(-1,-1),criteria)\n",
    "        imgpointsR.append(cornersR2)\n",
    "        \n",
    "        # Draw and display the corners\n",
    "        imgL = cv2.drawChessboardCorners(imgL, (pt_lin,pt_col), cornersL2,retL)\n",
    "        imgR = cv2.drawChessboardCorners(imgR, (pt_lin,pt_col), cornersR2,retR)\n",
    "        \n",
    "        print('Match')\n",
    "        n_matchs += 1\n",
    "    \n",
    "    cv2.imshow('imgL',imgL)\n",
    "    cv2.imshow('imgR',imgR)\n",
    "    cv2.waitKey(500)\n",
    "\n",
    "print('\\nNUMBER OF MATCHES: ', n_matchs)\n",
    "cv2.destroyAllWindows()"
   ]
  },
  {
   "cell_type": "markdown",
   "metadata": {},
   "source": [
    "**Calibration**"
   ]
  },
  {
   "cell_type": "code",
   "execution_count": null,
   "metadata": {},
   "outputs": [],
   "source": [
    "retL, mtxL, distL, rvecsL, tvecsL = cv2.calibrateCamera(objpointsL, imgpointsL, grayL.shape[::-1],None,None)\n",
    "retR, mtxR, distR, rvecsR, tvecsR = cv2.calibrateCamera(objpointsR, imgpointsR, grayR.shape[::-1],None,None)\n",
    "\n",
    "# Save calibration data\n",
    "np.savez('data_calib_left', mtxL=mtxL, distL=distL, rvecsL=rvecsL, tvecsL=tvecsL, objpointsL=objpointsL, imgpointsL=imgpointsL)\n",
    "np.savez('data_calib_right', mtxR=mtxR, distR=distR, rvecsR=rvecsR, tvecsR=tvecsR, objpointsR=objpointsR, imgpointsR=imgpointsR)\n",
    "\n",
    "print('Data of calibration saved as \"data_calib_left\" and \"data_calib_right\"!')"
   ]
  }
 ],
 "metadata": {
  "kernelspec": {
   "display_name": "Python 3",
   "language": "python",
   "name": "python3"
  },
  "language_info": {
   "codemirror_mode": {
    "name": "ipython",
    "version": 3
   },
   "file_extension": ".py",
   "mimetype": "text/x-python",
   "name": "python",
   "nbconvert_exporter": "python",
   "pygments_lexer": "ipython3",
   "version": "3.7.3"
  }
 },
 "nbformat": 4,
 "nbformat_minor": 2
}
